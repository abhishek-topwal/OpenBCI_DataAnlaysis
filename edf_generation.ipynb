{
 "cells": [
  {
   "cell_type": "code",
   "execution_count": 31,
   "metadata": {},
   "outputs": [],
   "source": [
    "import os\n",
    "import time\n",
    "import pickle\n",
    "import pandas as pd\n",
    "import numpy as np\n",
    "#import EDFlib\n",
    "\n",
    "from scipy import signal\n",
    "from scipy.signal import welch\n",
    "from scipy.integrate import simps\n",
    "from scipy.stats import f_oneway\n",
    "\n",
    "#!pip install scikit-learn==0.20.3\n",
    "from sklearn.model_selection import train_test_split\n",
    "from sklearn.preprocessing import StandardScaler\n",
    "from sklearn.svm import SVC\n",
    "from sklearn.neighbors import KNeighborsClassifier\n",
    "from sklearn.neural_network import MLPClassifier\n",
    "from sklearn import model_selection\n",
    "from sklearn.metrics import classification_report, confusion_matrix\n",
    "import itertools\n",
    "from sklearn.metrics import accuracy_score\n",
    "from sklearn.metrics import f1_score\n",
    "from sklearn.metrics import precision_recall_curve\n",
    "\n",
    "import mne\n",
    "from mne.preprocessing import (ICA, create_eog_epochs, create_ecg_epochs, corrmap)\n",
    "# from mne.time_frequency import psd_welch\n",
    "from mne.decoding import cross_val_multiscore\n",
    "\n",
    "\n",
    "from fooof import FOOOFGroup\n",
    "from fooof.bands import Bands\n",
    "from fooof.analysis import get_band_peak_fg\n",
    "from fooof.plts.spectra import plot_spectrum\n",
    "\n",
    "import matplotlib.pyplot as plt\n",
    "from matplotlib import cm\n",
    "import seaborn as sns\n",
    "%matplotlib inline\n",
    "\n",
    "from pathlib import Path"
   ]
  },
  {
   "cell_type": "code",
   "execution_count": 32,
   "metadata": {},
   "outputs": [],
   "source": [
    "current_dir  = Path.cwd()\n",
    "data_dir = current_dir / 'User_data'"
   ]
  },
  {
   "cell_type": "code",
   "execution_count": 33,
   "metadata": {},
   "outputs": [],
   "source": [
    "def csv_to_mne_raw(csv_file_path):\n",
    "  #read the csv file into a pandas dataframe\n",
    "  df = pd.read_csv(csv_file_path)\n",
    "\n",
    "  #get the starting 10 columns corresponding to the 8 channels and the index data\n",
    "  df1 = df.iloc[:,0:10]\n",
    "\n",
    "  #also keep the timestamp, Cognitive Workload and Anxiety column\n",
    "  df1['Timestamp'] = pd.to_datetime(df[' Timestamp (Formatted)'])\n",
    "  df1['Cognitive Workload'] = df['Cognitive_Wokload']\n",
    "  df1['Anxiety'] = df['Anxiety']\n",
    "\n",
    "  #reindex the columns\n",
    "  df1 = df1.reindex(columns=[' EXG Channel 0', ' EXG Channel 1', ' EXG Channel 2',\n",
    "                            ' EXG Channel 3', ' EXG Channel 4', ' EXG Channel 5', \n",
    "                            ' EXG Channel 6', ' EXG Channel 7', 'Changed Sample Index',\n",
    "                            'Sample Index','Cognitive Workload','Anxiety','Timestamp'])\n",
    "\n",
    "\n",
    "  #drop the sample index column\n",
    "  df1 = df1.drop(['Sample Index'], axis=1)\n",
    "\n",
    "  #rename the channels\n",
    "  df1 = df1.rename(columns={' EXG Channel 0': 'Fp1', ' EXG Channel 1': 'Fp2',\n",
    "                            ' EXG Channel 2': 'C3', ' EXG Channel 3': 'C4',\n",
    "                              ' EXG Channel 4': 'P3', ' EXG Channel 5': 'P4',\n",
    "                              ' EXG Channel 6': 'O1', ' EXG Channel 7': 'O2',\n",
    "                              'Changed Sample Index':'Index'})\n",
    "\n",
    "\n",
    "  #convert dataframe to numpy array\n",
    "  data = df1[['Fp1','Fp2','C3','C4','P3','P4','O1','O2']].to_numpy()\n",
    "  # data = df1.to_numpy()\n",
    "\n",
    "  #convert the data to float32\n",
    "  data = data.astype('float32')\n",
    "\n",
    "  # Scaling Data with the scale factor S = (4500000)/4/(2**23-1)\n",
    "  data = data*4500000/4/(2**23-1)\n",
    "\n",
    "  #get transpose of the data\n",
    "  data = data.T\n",
    "\n",
    "  # Create some metadata\n",
    "  n_channels = 8\n",
    "  sampling_freq = 250  # in Hertz\n",
    "  ch_types = ['eeg'] * n_channels\n",
    "  ch_names = ['Fp1','Fp2','C3','C4','P3','P4','O1','O2']\n",
    "  info = mne.create_info( ch_names=ch_names, sfreq=sampling_freq,ch_types=ch_types)\n",
    "  info.set_montage('standard_1020')\n",
    "  # print(info)\n",
    "  raw = mne.io.RawArray(data, info)\n",
    "  raw.set_montage('standard_1020')\n",
    "  return raw,df1.iloc[0]['Anxiety'] "
   ]
  },
  {
   "cell_type": "code",
   "execution_count": 34,
   "metadata": {},
   "outputs": [],
   "source": [
    "def createEDF(raw_object,new_file_path):\n",
    "    #check if the file exists\n",
    "    # if not os.path.isdir(new_file_path):\n",
    "        # os.mkdir(new_file_path)\n",
    "    mne.export.export_raw(str(new_file_path)+'.edf', raw_object, fmt='edf', overwrite=True)\n",
    "\n",
    "    # if not os.path.isdir(new_file_path):\n",
    "    #     os.mkdir(new_file_path)\n",
    "    # mne.export.export_raw(new_file_path, raw_object, fmt='edf')\n",
    "    \n",
    "\n",
    "    "
   ]
  },
  {
   "cell_type": "code",
   "execution_count": 35,
   "metadata": {},
   "outputs": [
    {
     "name": "stdout",
     "output_type": "stream",
     "text": [
      "[[-13488.25972667 -13417.666282   -13564.69850175 ... -13591.56879105\n",
      "  -13669.3926758  -13567.37861561]\n",
      " [-18672.50622258 -18530.2213038  -18805.07860989 ... -18945.99518281\n",
      "  -19102.50628844 -18910.2400751 ]\n",
      " [-22100.67359627 -22026.30305604 -22140.67204297 ... -21557.23703031\n",
      "  -21639.1072793  -21565.45758283]\n",
      " ...\n",
      " [-20784.66435004 -20724.95166473 -20621.96739913 ... -20160.96057426\n",
      "  -20201.73225163 -20258.54898905]\n",
      " [-15167.57632275 -15031.01205357 -15208.02634454 ... -15128.0807903\n",
      "  -15268.2419441  -15146.40782377]\n",
      " [-15520.54459381 -15374.24998163 -15607.8463167  ... -15474.03340757\n",
      "  -15626.69617144 -15463.97931351]]\n",
      "Creating RawArray with float64 data, n_channels=8, n_times=46251\n",
      "    Range : 0 ... 46250 =      0.000 ...   185.000 secs\n",
      "Ready.\n",
      "Overwriting existing file.\n",
      "[[-14456.06581436 -14251.11987548 -14311.73152002 ... -13921.11906959\n",
      "  -13749.50062943 -13756.69544643]\n",
      " [-19051.51706989 -18629.84442582 -18756.94762067 ... -19003.35045758\n",
      "  -18638.15298833 -18646.44478703]\n",
      " [-23816.32155598 -23561.64368418 -23619.46834558 ... -22773.85575236\n",
      "  -22569.16127061 -22556.91321314]\n",
      " ...\n",
      " [-21849.6837623  -21899.28787119 -21776.08645273 ... -20989.23310323\n",
      "  -20994.30625073 -20912.93891599]\n",
      " [-16040.36514477 -15697.54107323 -15746.47986847 ... -15390.58002643\n",
      "  -15102.6846684  -15071.49769846]\n",
      " [-16886.22814737 -16499.59186273 -16586.85796253 ... -16155.99456054\n",
      "  -15822.52259858 -15810.14881255]]\n",
      "Creating RawArray with float64 data, n_channels=8, n_times=46251\n",
      "    Range : 0 ... 46250 =      0.000 ...   185.000 secs\n",
      "Ready.\n",
      "Overwriting existing file.\n"
     ]
    },
    {
     "name": "stderr",
     "output_type": "stream",
     "text": [
      "/tmp/ipykernel_733660/2964501602.py:5: RuntimeWarning: EDF format requires equal-length data blocks, so 0.996 seconds of zeros were appended to all channels when writing the final block.\n",
      "  mne.export.export_raw(str(new_file_path)+'.edf', raw_object, fmt='edf', overwrite=True)\n"
     ]
    },
    {
     "name": "stdout",
     "output_type": "stream",
     "text": [
      "[[-15983.04444536 -16489.98724829 -16922.95555597 ... -16514.80711428\n",
      "  -15887.41530067 -15702.61317299]\n",
      " [-22576.58973318 -23066.8053986  -23461.24942698 ... -22816.35619746\n",
      "  -22125.07960574 -21985.38469535]\n",
      " [-22641.41118908 -22595.38405781 -22585.72600873 ... -22199.88181403\n",
      "  -22238.17244776 -22221.69781511]\n",
      " ...\n",
      " [-23273.35228118 -23616.48229222 -23971.267341   ... -23288.87347223\n",
      "  -22805.70908369 -22580.56485123]\n",
      " [-23106.60896604 -23053.89307523 -23041.50042991 ... -22767.88574112\n",
      "  -22811.21180377 -22793.29967456]\n",
      " [-21583.26284276 -21592.34463593 -21602.3274838  ... -21220.52755787\n",
      "  -21213.47837646 -21209.32304747]]\n",
      "Creating RawArray with float64 data, n_channels=8, n_times=46251\n",
      "    Range : 0 ... 46250 =      0.000 ...   185.000 secs\n",
      "Ready.\n",
      "Overwriting existing file.\n"
     ]
    },
    {
     "name": "stderr",
     "output_type": "stream",
     "text": [
      "/tmp/ipykernel_733660/2964501602.py:5: RuntimeWarning: EDF format requires equal-length data blocks, so 0.996 seconds of zeros were appended to all channels when writing the final block.\n",
      "  mne.export.export_raw(str(new_file_path)+'.edf', raw_object, fmt='edf', overwrite=True)\n"
     ]
    },
    {
     "name": "stdout",
     "output_type": "stream",
     "text": [
      "[[-17225.47314582 -17080.31113844 -16652.86545788 ... -16206.51648793\n",
      "  -16164.4477109  -16706.49811945]\n",
      " [-24209.64869562 -23943.26339917 -23569.34246316 ... -22968.11895437\n",
      "  -22969.05353669 -23500.25880899]\n",
      " [-23348.22783114 -23372.90415702 -23394.41421859 ... -22881.96764783\n",
      "  -22857.81309549 -22813.35338029]\n",
      " ...\n",
      " [-24523.91142869 -24412.88472605 -24155.70904681 ... -23497.18474563\n",
      "  -23414.28771338 -23782.45447218]\n",
      " [-23574.12643497 -23603.3897579  -23630.51150432 ... -23314.23501877\n",
      "  -23287.362634   -23235.29424529]\n",
      " [-22237.18338307 -22232.39941126 -22225.36699366 ... -21790.22253412\n",
      "  -21787.79387738 -21792.66795466]]\n",
      "Creating RawArray with float64 data, n_channels=8, n_times=46251\n",
      "    Range : 0 ... 46250 =      0.000 ...   185.000 secs\n",
      "Ready.\n",
      "Overwriting existing file.\n"
     ]
    },
    {
     "name": "stderr",
     "output_type": "stream",
     "text": [
      "/tmp/ipykernel_733660/2964501602.py:5: RuntimeWarning: EDF format requires equal-length data blocks, so 0.996 seconds of zeros were appended to all channels when writing the final block.\n",
      "  mne.export.export_raw(str(new_file_path)+'.edf', raw_object, fmt='edf', overwrite=True)\n"
     ]
    },
    {
     "name": "stdout",
     "output_type": "stream",
     "text": [
      "[[-25968.98313987 -25976.93337598 -25938.40804893 ... -25240.92465717\n",
      "  -25290.22492203 -25320.61980203]\n",
      " [-30264.88295189 -30273.73214721 -30230.10014505 ... -29644.70376682\n",
      "  -29697.5265269  -29730.24319436]\n",
      " [-21082.90297781 -21091.85904242 -21050.92391793 ... -20470.83328503\n",
      "  -20520.90678054 -20552.81249877]\n",
      " ...\n",
      " [-22525.65499701 -22536.75263813 -22497.61543208 ... -22041.85987018\n",
      "  -22088.40667951 -22121.62626122]\n",
      " [-19318.13496418 -19327.70500327 -19290.78061992 ... -18822.61355342\n",
      "  -18866.22879177 -18895.45649161]\n",
      " [-18493.96328184 -18503.74705948 -18463.15349758 ... -18024.64579898\n",
      "  -18072.95490367 -18104.73698881]]\n",
      "Creating RawArray with float64 data, n_channels=8, n_times=46251\n",
      "    Range : 0 ... 46250 =      0.000 ...   185.000 secs\n",
      "Ready.\n",
      "Overwriting existing file.\n"
     ]
    },
    {
     "name": "stderr",
     "output_type": "stream",
     "text": [
      "/tmp/ipykernel_733660/2964501602.py:5: RuntimeWarning: EDF format requires equal-length data blocks, so 0.996 seconds of zeros were appended to all channels when writing the final block.\n",
      "  mne.export.export_raw(str(new_file_path)+'.edf', raw_object, fmt='edf', overwrite=True)\n"
     ]
    },
    {
     "name": "stdout",
     "output_type": "stream",
     "text": [
      "[[-27323.49885386 -27337.22003099 -27296.66418766 ... -26282.68847632\n",
      "  -26239.34355437 -26250.31337146]\n",
      " [-31003.24698576 -31018.10391091 -30973.12242217 ... -30481.07111973\n",
      "  -30434.30847637 -30446.3406998 ]\n",
      " [-22108.2801743  -22122.84792375 -22081.98614092 ... -21314.50337195\n",
      "  -21269.79010416 -21280.51055959]\n",
      " ...\n",
      " [-23232.97455331 -23249.52252762 -23210.38532157 ... -22680.74536988\n",
      "  -22635.88960971 -22642.16556046]\n",
      " [-20142.63144532 -20154.98846754 -20117.57793375 ... -19503.90939275\n",
      "  -19461.9118619  -19471.03137364]\n",
      " [-19249.80777686 -19265.67262598 -19222.70488972 ... -18656.94940844\n",
      "  -18612.03916589 -18621.15658215]]\n",
      "Creating RawArray with float64 data, n_channels=8, n_times=46251\n",
      "    Range : 0 ... 46250 =      0.000 ...   185.000 secs\n",
      "Ready.\n",
      "Overwriting existing file.\n"
     ]
    },
    {
     "name": "stderr",
     "output_type": "stream",
     "text": [
      "/tmp/ipykernel_733660/2964501602.py:5: RuntimeWarning: EDF format requires equal-length data blocks, so 0.996 seconds of zeros were appended to all channels when writing the final block.\n",
      "  mne.export.export_raw(str(new_file_path)+'.edf', raw_object, fmt='edf', overwrite=True)\n"
     ]
    },
    {
     "name": "stdout",
     "output_type": "stream",
     "text": [
      "[[-22110.24153988 -21733.92757023 -21128.40624008 ... -21143.80170257\n",
      "  -20463.17222462 -20263.20723229]\n",
      " [-26735.65705508 -26379.52251973 -25904.9370101  ... -25248.85603399\n",
      "  -24493.47883013 -24350.16922357]\n",
      " [-18985.68978549 -19016.08466549 -19026.62490998 ... -18126.15694492\n",
      "  -18147.09284606 -18127.02028105]\n",
      " ...\n",
      " [-19472.56107115 -19400.31115267 -19337.2540876  ... -18461.80401101\n",
      "  -18354.53868786 -18364.48381716]\n",
      " [-14826.28194873 -14697.84603112 -14555.40080843 ... -14000.47160411\n",
      "  -13828.85316395 -13811.96467479]\n",
      " [-13404.28457199 -13306.31687605 -13216.87462438 ... -12466.44274397\n",
      "  -12330.92097413 -12336.29901339]]\n",
      "Creating RawArray with float64 data, n_channels=8, n_times=46251\n",
      "    Range : 0 ... 46250 =      0.000 ...   185.000 secs\n",
      "Ready.\n",
      "Overwriting existing file.\n"
     ]
    },
    {
     "name": "stderr",
     "output_type": "stream",
     "text": [
      "/tmp/ipykernel_733660/2964501602.py:5: RuntimeWarning: EDF format requires equal-length data blocks, so 0.996 seconds of zeros were appended to all channels when writing the final block.\n",
      "  mne.export.export_raw(str(new_file_path)+'.edf', raw_object, fmt='edf', overwrite=True)\n"
     ]
    },
    {
     "name": "stdout",
     "output_type": "stream",
     "text": [
      "[[-22390.26000346 -22959.91726114 -23507.95758797 ... -21629.73631044\n",
      "  -21280.780876   -21840.34841653]\n",
      " [-28277.41822182 -28739.23599592 -29105.40576604 ... -26266.03363273\n",
      "  -25979.12733939 -26639.37831283]\n",
      " [-20426.89534337 -20383.74739617 -20383.28010501 ... -19510.11409731\n",
      "  -19492.77612853 -19447.27286627]\n",
      " ...\n",
      " [-21237.93886831 -21323.6396475  -21361.76892957 ... -19798.69258053\n",
      "  -19791.48204747 -19885.4012837 ]\n",
      " [-16221.24663677 -16373.60241341 -16464.46539783 ... -15058.56546806\n",
      "  -15018.56597362 -15177.23541957]\n",
      " [-15262.57682462 -15378.3497805  -15435.8685024  ... -13769.32068958\n",
      "  -13755.65189936 -13889.86085346]]\n",
      "Creating RawArray with float64 data, n_channels=8, n_times=46251\n",
      "    Range : 0 ... 46250 =      0.000 ...   185.000 secs\n",
      "Ready.\n",
      "Overwriting existing file.\n"
     ]
    },
    {
     "name": "stderr",
     "output_type": "stream",
     "text": [
      "/tmp/ipykernel_733660/2964501602.py:5: RuntimeWarning: EDF format requires equal-length data blocks, so 0.996 seconds of zeros were appended to all channels when writing the final block.\n",
      "  mne.export.export_raw(str(new_file_path)+'.edf', raw_object, fmt='edf', overwrite=True)\n"
     ]
    },
    {
     "name": "stdout",
     "output_type": "stream",
     "text": [
      "[[-21852.14804213 -21883.44188135 -21932.09254863 ... -21374.1259518\n",
      "  -21271.04948526 -21215.65348059]\n",
      " [-24417.65193405 -24449.05473802 -24497.63415912 ... -23832.5971184\n",
      "  -23729.61285281 -23674.41382289]\n",
      " [-16202.84730938 -16234.28573645 -16282.63151196 ... -15239.95092205\n",
      "  -15138.47644695 -15084.3209641 ]\n",
      " ...\n",
      " [-18096.64216486 -18106.731882   -18130.86967054 ... -16965.00547372\n",
      "  -16900.54548743 -16858.99848393]\n",
      " [-19959.97089415 -19990.2044225  -20037.70467343 ... -19242.25358573\n",
      "  -19142.52359443 -19089.64635197]\n",
      " [-19404.3407531  -19434.79011548 -19483.83682774 ... -18522.86618289\n",
      "  -18423.87379916 -18372.55978183]]\n",
      "Creating RawArray with float64 data, n_channels=8, n_times=46251\n",
      "    Range : 0 ... 46250 =      0.000 ...   185.000 secs\n",
      "Ready.\n",
      "Overwriting existing file.\n"
     ]
    },
    {
     "name": "stderr",
     "output_type": "stream",
     "text": [
      "/tmp/ipykernel_733660/2964501602.py:5: RuntimeWarning: EDF format requires equal-length data blocks, so 0.996 seconds of zeros were appended to all channels when writing the final block.\n",
      "  mne.export.export_raw(str(new_file_path)+'.edf', raw_object, fmt='edf', overwrite=True)\n"
     ]
    },
    {
     "name": "stdout",
     "output_type": "stream",
     "text": [
      "[[-23626.10471821 -23735.67296953 -23840.85329401 ... -23077.72282879\n",
      "  -22962.03997837 -22653.51465871]\n",
      " [-25897.74114537 -26007.36387907 -26112.70555521 ... -25199.68359318\n",
      "  -25083.58793398 -24774.66656934]\n",
      " [-18858.89043467 -18967.27264655 -19070.9777559  ... -17377.77548782\n",
      "  -17265.04201994 -16964.78963969]\n",
      " ...\n",
      " [-21054.89903598 -21112.27317003 -21174.50252207 ... -19074.62807517\n",
      "  -19012.847155   -18820.96022282]\n",
      " [-21864.27037104 -21969.5575648  -22070.95974598 ... -20825.52822835\n",
      "  -20716.87779553 -20423.74793835]\n",
      " [-21556.89546772 -21662.45297789 -21765.3659973  ... -20487.23667149\n",
      "  -20378.47727392 -20080.43771637]]\n",
      "Creating RawArray with float64 data, n_channels=8, n_times=46251\n",
      "    Range : 0 ... 46250 =      0.000 ...   185.000 secs\n",
      "Ready.\n",
      "Overwriting existing file.\n"
     ]
    },
    {
     "name": "stderr",
     "output_type": "stream",
     "text": [
      "/tmp/ipykernel_733660/2964501602.py:5: RuntimeWarning: EDF format requires equal-length data blocks, so 0.996 seconds of zeros were appended to all channels when writing the final block.\n",
      "  mne.export.export_raw(str(new_file_path)+'.edf', raw_object, fmt='edf', overwrite=True)\n"
     ]
    },
    {
     "name": "stdout",
     "output_type": "stream",
     "text": [
      "[[-23462.30973785 -23508.29915056 -23503.20923925 ... -22963.38946495\n",
      "  -22957.72329773 -23045.13398537]\n",
      " [-27207.00505422 -27253.10133621 -27248.19163584 ... -26449.27043981\n",
      "  -26437.81447228 -26534.77424425]\n",
      " [-23224.50463915 -23260.7815204  -23255.79847837 ... -22380.33163797\n",
      "  -22386.17592066 -22433.38909137]\n",
      " ...\n",
      " [-22602.57992254 -22642.88430874 -22644.08920747 ... -21953.60470569\n",
      "  -21938.51518271 -22007.95716328]\n",
      " [-19763.35237707 -19807.00323851 -19801.83998555 ... -19210.25776203\n",
      "  -19203.80160034 -19287.54310944]\n",
      " [-21054.52185029 -21098.73010836 -21092.70561474 ... -20597.91971607\n",
      "  -20592.00209172 -20678.08215208]]\n",
      "Creating RawArray with float64 data, n_channels=8, n_times=46251\n",
      "    Range : 0 ... 46250 =      0.000 ...   185.000 secs\n",
      "Ready.\n",
      "Overwriting existing file.\n"
     ]
    },
    {
     "name": "stderr",
     "output_type": "stream",
     "text": [
      "/tmp/ipykernel_733660/2964501602.py:5: RuntimeWarning: EDF format requires equal-length data blocks, so 0.996 seconds of zeros were appended to all channels when writing the final block.\n",
      "  mne.export.export_raw(str(new_file_path)+'.edf', raw_object, fmt='edf', overwrite=True)\n"
     ]
    },
    {
     "name": "stdout",
     "output_type": "stream",
     "text": [
      "[[-26458.29984607 -26547.65304001 -26602.94007992 ... -23371.17748476\n",
      "  -23453.22794468 -23529.66671977]\n",
      " [-29589.1464105  -29678.9836594  -29735.06278925 ... -27922.83224326\n",
      "  -28004.09270872 -28080.38689596]\n",
      " [-25583.85769346 -25655.69270768 -25702.20179845 ... -24252.11142215\n",
      "  -24319.75548428 -24386.17788388]\n",
      " ...\n",
      " [-24396.89624384 -24472.18460258 -24525.49351311 ... -23398.22798499\n",
      "  -23464.61266602 -23534.0546466 ]\n",
      " [-20861.37344153 -20949.44839508 -21003.22669224 ... -20409.62862077\n",
      "  -20489.23366016 -20563.9269037 ]\n",
      " [-22239.82787384 -22330.77991599 -22385.42154928 ... -21602.6858102\n",
      "  -21685.09669201 -21761.8057835 ]]\n",
      "Creating RawArray with float64 data, n_channels=8, n_times=46251\n",
      "    Range : 0 ... 46250 =      0.000 ...   185.000 secs\n",
      "Ready.\n",
      "Overwriting existing file.\n"
     ]
    },
    {
     "name": "stderr",
     "output_type": "stream",
     "text": [
      "/tmp/ipykernel_733660/2964501602.py:5: RuntimeWarning: EDF format requires equal-length data blocks, so 0.996 seconds of zeros were appended to all channels when writing the final block.\n",
      "  mne.export.export_raw(str(new_file_path)+'.edf', raw_object, fmt='edf', overwrite=True)\n"
     ]
    },
    {
     "name": "stdout",
     "output_type": "stream",
     "text": [
      "[[ -22830.42103266  -22898.06509479  -22315.0617502  ...  -21706.78696453\n",
      "   -22336.73316343  -22207.66860301]\n",
      " [-103485.62919177 -103519.33282844 -103429.76380047 ... -106468.05318809\n",
      "  -106568.66956576 -106566.97642111]\n",
      " [ -20752.41706922  -20820.72539726  -20983.20860961 ...  -20225.27702044\n",
      "   -20166.57225911  -20258.62233071]\n",
      " ...\n",
      " [ -24501.44583004  -24562.63373049  -24288.9834186  ...  -22106.69808989\n",
      "   -22401.22982055  -22340.83401004]\n",
      " [ -18259.12537721  -18304.8800966   -18436.19310281 ...  -17827.92041262\n",
      "   -17774.663889    -17844.3049398 ]\n",
      " [ -18992.14594718  -19057.95646777  -19221.37216696 ...  -18236.56967308\n",
      "   -18176.76897778  -18267.43393972]]\n",
      "Creating RawArray with float64 data, n_channels=8, n_times=46251\n",
      "    Range : 0 ... 46250 =      0.000 ...   185.000 secs\n",
      "Ready.\n",
      "Overwriting existing file.\n"
     ]
    },
    {
     "name": "stderr",
     "output_type": "stream",
     "text": [
      "/tmp/ipykernel_733660/2964501602.py:5: RuntimeWarning: EDF format requires equal-length data blocks, so 0.996 seconds of zeros were appended to all channels when writing the final block.\n",
      "  mne.export.export_raw(str(new_file_path)+'.edf', raw_object, fmt='edf', overwrite=True)\n"
     ]
    },
    {
     "name": "stdout",
     "output_type": "stream",
     "text": [
      "[[ -24150.15184434  -24333.85594257  -23879.6112189  ...  -22102.79421802\n",
      "   -22768.83918272  -23337.40050642]\n",
      " [ -93529.41901587  -93583.59126253  -93513.55207128 ... -100937.29563055\n",
      "  -101028.79249648 -101130.733215  ]\n",
      " [ -22168.73046718  -22228.749092    -22593.04760202 ...  -21478.96471369\n",
      "   -21246.66233507  -21176.58961621]\n",
      " ...\n",
      " [ -26794.68451973  -26920.63729823  -26709.43217241 ...  -24305.60054362\n",
      "   -24617.38223305  -24900.67383022]\n",
      " [ -18902.01952258  -18934.98764716  -19244.64661937 ...  -18765.58098196\n",
      "   -18576.10384723  -18509.30426194]\n",
      " [ -20006.05041233  -20064.03432991  -20424.5567921  ...  -19635.20353968\n",
      "   -19404.75356188  -19333.51366286]]\n",
      "Creating RawArray with float64 data, n_channels=8, n_times=46251\n",
      "    Range : 0 ... 46250 =      0.000 ...   185.000 secs\n",
      "Ready.\n",
      "Overwriting existing file.\n"
     ]
    },
    {
     "name": "stderr",
     "output_type": "stream",
     "text": [
      "/tmp/ipykernel_733660/2964501602.py:5: RuntimeWarning: EDF format requires equal-length data blocks, so 0.996 seconds of zeros were appended to all channels when writing the final block.\n",
      "  mne.export.export_raw(str(new_file_path)+'.edf', raw_object, fmt='edf', overwrite=True)\n"
     ]
    },
    {
     "name": "stdout",
     "output_type": "stream",
     "text": [
      "[[-22540.36733431 -22741.93117485 -22750.61901852 ... -22401.15857436\n",
      "  -22282.1648718  -22354.6662474 ]\n",
      " [-27428.37114337 -28018.20993082 -28391.01607357 ... -27567.88584282\n",
      "  -27007.18464974 -26991.12282588]\n",
      " [-17258.1353309  -17831.96677686 -18199.35820952 ... -17486.44477992\n",
      "  -16938.72820414 -16919.23189504]\n",
      " ...\n",
      " [-19667.28946884 -20173.24425483 -20532.36274807 ... -19763.85529132\n",
      "  -19275.97817716 -19223.85530607]\n",
      " [-16401.62416679 -16974.87935683 -17344.19653197 ... -16658.18901476\n",
      "  -16110.00514783 -16088.2069583 ]\n",
      " [-16301.15656792 -16888.45878162 -17262.25398906 ... -16592.68548141\n",
      "  -16035.77814771 -16016.35413253]]\n",
      "Creating RawArray with float64 data, n_channels=8, n_times=46251\n",
      "    Range : 0 ... 46250 =      0.000 ...   185.000 secs\n",
      "Ready.\n",
      "Overwriting existing file.\n"
     ]
    },
    {
     "name": "stderr",
     "output_type": "stream",
     "text": [
      "/tmp/ipykernel_733660/2964501602.py:5: RuntimeWarning: EDF format requires equal-length data blocks, so 0.996 seconds of zeros were appended to all channels when writing the final block.\n",
      "  mne.export.export_raw(str(new_file_path)+'.edf', raw_object, fmt='edf', overwrite=True)\n"
     ]
    },
    {
     "name": "stdout",
     "output_type": "stream",
     "text": [
      "[[-21236.73396958 -20899.41261813 -21324.66433529 ... -22425.40323218\n",
      "  -22743.06482739 -22905.7261552 ]\n",
      " [-27001.25026159 -26173.76772709 -26685.0995046  ... -27205.72890931\n",
      "  -27915.36815759 -28564.30775135]\n",
      " [-16657.09203305 -15841.26453631 -16335.95823404 ... -17131.17462843\n",
      "  -17822.52456181 -18461.89411648]\n",
      " ...\n",
      " [-19226.28396281 -18429.03495665 -18811.66050014 ... -19544.16139205\n",
      "  -20138.33362396 -20743.78370792]\n",
      " [-15657.09105144 -14836.40728896 -15325.04086998 ... -16216.62401662\n",
      "  -16904.26810062 -17544.89808413]\n",
      " [-15222.43274233 -14394.80666773 -14901.47915426 ... -16070.97690654\n",
      "  -16775.65301981 -17424.08865158]]\n",
      "Creating RawArray with float64 data, n_channels=8, n_times=46251\n",
      "    Range : 0 ... 46250 =      0.000 ...   185.000 secs\n",
      "Ready.\n",
      "Overwriting existing file.\n"
     ]
    },
    {
     "name": "stderr",
     "output_type": "stream",
     "text": [
      "/tmp/ipykernel_733660/2964501602.py:5: RuntimeWarning: EDF format requires equal-length data blocks, so 0.996 seconds of zeros were appended to all channels when writing the final block.\n",
      "  mne.export.export_raw(str(new_file_path)+'.edf', raw_object, fmt='edf', overwrite=True)\n"
     ]
    },
    {
     "name": "stdout",
     "output_type": "stream",
     "text": [
      "[[-23663.49639271 -23413.8749046  -23447.84885768 ... -22700.5287592\n",
      "  -22914.75556147 -23000.45634067]\n",
      " [-26204.14584328 -26701.37506703 -26719.91793453 ... -25860.54854109\n",
      "  -25463.87492621 -25228.9657754 ]\n",
      " [-18788.71084652 -18548.08104611 -18578.90968965 ... -18062.32664918\n",
      "  -18266.98341237 -18350.43784124]\n",
      " ...\n",
      " [-24053.4602933  -25444.00143142 -26034.23416836 ... -24489.88299324\n",
      "  -23595.0979592  -22655.24133097]\n",
      " [-19815.72670528 -19572.59700195 -19602.50573151 ... -19146.3918432\n",
      "  -19353.99903665 -19438.29794238]\n",
      " [-18728.85566884 -18479.16083907 -18506.87560521 ... -17883.18859325\n",
      "  -18093.6561115  -18181.06679914]]\n",
      "Creating RawArray with float64 data, n_channels=8, n_times=46251\n",
      "    Range : 0 ... 46250 =      0.000 ...   185.000 secs\n",
      "Ready.\n",
      "Overwriting existing file.\n"
     ]
    },
    {
     "name": "stderr",
     "output_type": "stream",
     "text": [
      "/tmp/ipykernel_733660/2964501602.py:5: RuntimeWarning: EDF format requires equal-length data blocks, so 0.996 seconds of zeros were appended to all channels when writing the final block.\n",
      "  mne.export.export_raw(str(new_file_path)+'.edf', raw_object, fmt='edf', overwrite=True)\n"
     ]
    },
    {
     "name": "stdout",
     "output_type": "stream",
     "text": [
      "[[-25086.41054021 -24727.38215244 -24804.5752989  ... -24018.80321503\n",
      "  -24246.87901847 -24200.00741035]\n",
      " [-27817.67077806 -28312.67041529 -28383.13917913 ... -26896.89765014\n",
      "  -26460.24235237 -26414.70346701]\n",
      " [-20345.65373719 -19997.50715651 -20069.77174332 ... -19151.87570401\n",
      "  -19371.30138234 -19327.52479233]\n",
      " ...\n",
      " [-26309.68449417 -27647.09483723 -28178.13875787 ... -25882.18433123\n",
      "  -24744.88147287 -24310.33212852]\n",
      " [-21025.31300973 -20671.75171895 -20744.1965167  ... -20078.80114958\n",
      "  -20300.8524594  -20258.08169789]\n",
      " [-20434.91682566 -20077.81208489 -20150.00542551 ... -19126.57073531\n",
      "  -19353.17132362 -19309.55608527]]\n",
      "Creating RawArray with float64 data, n_channels=8, n_times=46251\n",
      "    Range : 0 ... 46250 =      0.000 ...   185.000 secs\n",
      "Ready.\n",
      "Overwriting existing file.\n"
     ]
    },
    {
     "name": "stderr",
     "output_type": "stream",
     "text": [
      "/tmp/ipykernel_733660/2964501602.py:5: RuntimeWarning: EDF format requires equal-length data blocks, so 0.996 seconds of zeros were appended to all channels when writing the final block.\n",
      "  mne.export.export_raw(str(new_file_path)+'.edf', raw_object, fmt='edf', overwrite=True)\n"
     ]
    },
    {
     "name": "stdout",
     "output_type": "stream",
     "text": [
      "[[-22539.1079532  -22685.09767362 -22702.11084361 ... -22105.47433188\n",
      "  -22213.35153404 -22328.4434602 ]\n",
      " [-23551.14115825 -23700.20494203 -23718.65770406 ... -23188.02868767\n",
      "  -23297.47121043 -23414.97083857]\n",
      " [-23427.61494101 -23568.51475012 -23582.81427864 ... -22972.59698668\n",
      "  -23076.15750818 -23185.09711669]\n",
      " ...\n",
      " [-25147.92114397 -25289.97136943 -25307.94007649 ... -24618.64161416\n",
      "  -24723.46151676 -24836.62770045]\n",
      " [-24916.82366408 -25055.38492192 -25073.94664871 ... -24423.71205076\n",
      "  -24525.33216145 -24634.59447327]\n",
      " [-19492.93748019 -19635.06104731 -19654.62860259 ... -19055.33083629\n",
      "  -19159.73583464 -19272.88315904]]\n",
      "Creating RawArray with float64 data, n_channels=8, n_times=46251\n",
      "    Range : 0 ... 46250 =      0.000 ...   185.000 secs\n",
      "Ready.\n",
      "Overwriting existing file.\n"
     ]
    },
    {
     "name": "stderr",
     "output_type": "stream",
     "text": [
      "/tmp/ipykernel_733660/2964501602.py:5: RuntimeWarning: EDF format requires equal-length data blocks, so 0.996 seconds of zeros were appended to all channels when writing the final block.\n",
      "  mne.export.export_raw(str(new_file_path)+'.edf', raw_object, fmt='edf', overwrite=True)\n"
     ]
    },
    {
     "name": "stdout",
     "output_type": "stream",
     "text": [
      "[[-23722.59719902 -23798.53305985 -23789.55813596 ... -23165.24038571\n",
      "  -23180.47449654 -23103.53280721]\n",
      " [-24666.98634194 -24747.11315486 -24738.85697925 ... -24191.1770743\n",
      "  -24207.47149601 -24128.04666757]\n",
      " [-24710.81741432 -24781.8247155  -24771.46468195 ... -24088.78373295\n",
      "  -24101.06950899 -24026.48313473]\n",
      " ...\n",
      " [-26259.41402391 -26337.65281292 -26330.0797625  ... -25628.40751413\n",
      "  -25645.09798081 -25567.86711578]\n",
      " [-26094.12706462 -26168.83916744 -26162.29290028 ... -25504.95463855\n",
      "  -25521.06884932 -25446.66268599]\n",
      " [-20642.16569271 -20720.63707955 -20713.09965223 ... -20063.00964213\n",
      "  -20079.19719456 -20001.22872196]]\n",
      "Creating RawArray with float64 data, n_channels=8, n_times=46251\n",
      "    Range : 0 ... 46250 =      0.000 ...   185.000 secs\n",
      "Ready.\n",
      "Overwriting existing file.\n"
     ]
    },
    {
     "name": "stderr",
     "output_type": "stream",
     "text": [
      "/tmp/ipykernel_733660/2964501602.py:5: RuntimeWarning: EDF format requires equal-length data blocks, so 0.996 seconds of zeros were appended to all channels when writing the final block.\n",
      "  mne.export.export_raw(str(new_file_path)+'.edf', raw_object, fmt='edf', overwrite=True)\n",
      "/tmp/ipykernel_733660/2964501602.py:5: RuntimeWarning: EDF format requires equal-length data blocks, so 0.996 seconds of zeros were appended to all channels when writing the final block.\n",
      "  mne.export.export_raw(str(new_file_path)+'.edf', raw_object, fmt='edf', overwrite=True)\n"
     ]
    }
   ],
   "source": [
    "for user in os.listdir(data_dir):\n",
    "    for session in os.listdir(data_dir / user):\n",
    "        for file in os.listdir(data_dir/user/session):\n",
    "            if file.endswith('.csv'):\n",
    "                raw,_= csv_to_mne_raw(data_dir/user/session/file)\n",
    "                createEDF(raw,data_dir/user/session/file[:-4])"
   ]
  },
  {
   "cell_type": "code",
   "execution_count": 30,
   "metadata": {},
   "outputs": [
    {
     "name": "stdout",
     "output_type": "stream",
     "text": [
      "Extracting EDF parameters from /home/niskal/Abhishek/OpenBCI_DataAnlaysis/User_data/12349/session_1/12349_session_1_23-03-2023_23-43.edf...\n",
      "EDF file detected\n"
     ]
    },
    {
     "ename": "ValueError",
     "evalue": "could not convert string to float: '-J374935'",
     "output_type": "error",
     "traceback": [
      "\u001b[0;31m---------------------------------------------------------------------------\u001b[0m",
      "\u001b[0;31mValueError\u001b[0m                                Traceback (most recent call last)",
      "Cell \u001b[0;32mIn[30], line 5\u001b[0m\n\u001b[1;32m      3\u001b[0m \u001b[39m# curr_file = data_dir / '12349/session_1/12349_session_1_23-03-2023_23-43.edf'\u001b[39;00m\n\u001b[1;32m      4\u001b[0m G \u001b[39m=\u001b[39m eegraph\u001b[39m.\u001b[39mGraph()\n\u001b[0;32m----> 5\u001b[0m G\u001b[39m.\u001b[39;49mload_data(path \u001b[39m=\u001b[39;49m \u001b[39m\"\u001b[39;49m\u001b[39mUser_data/12349/session_1/12349_session_1_23-03-2023_23-43.edf\u001b[39;49m\u001b[39m\"\u001b[39;49m)\n",
      "File \u001b[0;32m~/anaconda3/envs/OpenBCI/lib/python3.10/site-packages/eegraph/graph.py:12\u001b[0m, in \u001b[0;36mGraph.load_data\u001b[0;34m(self, path, exclude, electrode_montage_path)\u001b[0m\n\u001b[1;32m     10\u001b[0m \u001b[39mdef\u001b[39;00m \u001b[39mload_data\u001b[39m(\u001b[39mself\u001b[39m, path, exclude \u001b[39m=\u001b[39m [\u001b[39mNone\u001b[39;00m],  electrode_montage_path \u001b[39m=\u001b[39m \u001b[39mNone\u001b[39;00m):\n\u001b[1;32m     11\u001b[0m     input_data \u001b[39m=\u001b[39m InputData(path, exclude)\n\u001b[0;32m---> 12\u001b[0m     \u001b[39mself\u001b[39m\u001b[39m.\u001b[39mdata \u001b[39m=\u001b[39m input_data\u001b[39m.\u001b[39;49mload()\n\u001b[1;32m     14\u001b[0m     \u001b[39mself\u001b[39m\u001b[39m.\u001b[39mch_names\u001b[39m=\u001b[39m\u001b[39mself\u001b[39m\u001b[39m.\u001b[39mdata\u001b[39m.\u001b[39mch_names\n\u001b[1;32m     15\u001b[0m     \u001b[39mif\u001b[39;00m(electrode_montage_path):\n",
      "File \u001b[0;32m~/anaconda3/envs/OpenBCI/lib/python3.10/site-packages/eegraph/importData.py:16\u001b[0m, in \u001b[0;36mInputData.load\u001b[0;34m(self)\u001b[0m\n\u001b[1;32m     12\u001b[0m file_type \u001b[39m=\u001b[39m \u001b[39mself\u001b[39m\u001b[39m.\u001b[39mpath\u001b[39m.\u001b[39msplit(\u001b[39m\"\u001b[39m\u001b[39m.\u001b[39m\u001b[39m\"\u001b[39m)\n\u001b[1;32m     14\u001b[0m \u001b[39m#https://mne.tools/0.17/manual/io.html\u001b[39;00m\n\u001b[1;32m     15\u001b[0m \u001b[39m#Check the extension of the file in the input format dictionary, and use the proper MNE method. \u001b[39;00m\n\u001b[0;32m---> 16\u001b[0m \u001b[39mself\u001b[39m\u001b[39m.\u001b[39mdata \u001b[39m=\u001b[39m \u001b[39meval\u001b[39;49m(search_input(input_format, file_type[\u001b[39m-\u001b[39;49m\u001b[39m1\u001b[39;49m]))\n\u001b[1;32m     18\u001b[0m \u001b[39mreturn\u001b[39;00m \u001b[39mself\u001b[39m\u001b[39m.\u001b[39mdata\n",
      "File \u001b[0;32m<string>:1\u001b[0m\n",
      "File \u001b[0;32m~/anaconda3/envs/OpenBCI/lib/python3.10/site-packages/mne/io/edf/edf.py:1412\u001b[0m, in \u001b[0;36mread_raw_edf\u001b[0;34m(input_fname, eog, misc, stim_channel, exclude, infer_types, include, preload, units, encoding, verbose)\u001b[0m\n\u001b[1;32m   1410\u001b[0m \u001b[39mif\u001b[39;00m ext \u001b[39m!=\u001b[39m \u001b[39m'\u001b[39m\u001b[39medf\u001b[39m\u001b[39m'\u001b[39m:\n\u001b[1;32m   1411\u001b[0m     \u001b[39mraise\u001b[39;00m \u001b[39mNotImplementedError\u001b[39;00m(\u001b[39mf\u001b[39m\u001b[39m'\u001b[39m\u001b[39mOnly EDF files are supported, got \u001b[39m\u001b[39m{\u001b[39;00mext\u001b[39m}\u001b[39;00m\u001b[39m.\u001b[39m\u001b[39m'\u001b[39m)\n\u001b[0;32m-> 1412\u001b[0m \u001b[39mreturn\u001b[39;00m RawEDF(input_fname\u001b[39m=\u001b[39;49minput_fname, eog\u001b[39m=\u001b[39;49meog, misc\u001b[39m=\u001b[39;49mmisc,\n\u001b[1;32m   1413\u001b[0m               stim_channel\u001b[39m=\u001b[39;49mstim_channel, exclude\u001b[39m=\u001b[39;49mexclude,\n\u001b[1;32m   1414\u001b[0m               infer_types\u001b[39m=\u001b[39;49minfer_types, preload\u001b[39m=\u001b[39;49mpreload, include\u001b[39m=\u001b[39;49minclude,\n\u001b[1;32m   1415\u001b[0m               units\u001b[39m=\u001b[39;49munits, encoding\u001b[39m=\u001b[39;49mencoding, verbose\u001b[39m=\u001b[39;49mverbose)\n",
      "File \u001b[0;32m<decorator-gen-246>:12\u001b[0m, in \u001b[0;36m__init__\u001b[0;34m(self, input_fname, eog, misc, stim_channel, exclude, infer_types, preload, include, units, encoding, verbose)\u001b[0m\n",
      "File \u001b[0;32m~/anaconda3/envs/OpenBCI/lib/python3.10/site-packages/mne/io/edf/edf.py:141\u001b[0m, in \u001b[0;36mRawEDF.__init__\u001b[0;34m(self, input_fname, eog, misc, stim_channel, exclude, infer_types, preload, include, units, encoding, verbose)\u001b[0m\n\u001b[1;32m    139\u001b[0m logger\u001b[39m.\u001b[39minfo(\u001b[39m'\u001b[39m\u001b[39mExtracting EDF parameters from \u001b[39m\u001b[39m{}\u001b[39;00m\u001b[39m...\u001b[39m\u001b[39m'\u001b[39m\u001b[39m.\u001b[39mformat(input_fname))\n\u001b[1;32m    140\u001b[0m input_fname \u001b[39m=\u001b[39m os\u001b[39m.\u001b[39mpath\u001b[39m.\u001b[39mabspath(input_fname)\n\u001b[0;32m--> 141\u001b[0m info, edf_info, orig_units \u001b[39m=\u001b[39m _get_info(input_fname, stim_channel, eog,\n\u001b[1;32m    142\u001b[0m                                        misc, exclude, infer_types,\n\u001b[1;32m    143\u001b[0m                                        preload, include)\n\u001b[1;32m    144\u001b[0m logger\u001b[39m.\u001b[39minfo(\u001b[39m'\u001b[39m\u001b[39mCreating raw.info structure...\u001b[39m\u001b[39m'\u001b[39m)\n\u001b[1;32m    146\u001b[0m _validate_type(units, (\u001b[39mstr\u001b[39m, \u001b[39mNone\u001b[39;00m, \u001b[39mdict\u001b[39m), \u001b[39m'\u001b[39m\u001b[39munits\u001b[39m\u001b[39m'\u001b[39m)\n",
      "File \u001b[0;32m~/anaconda3/envs/OpenBCI/lib/python3.10/site-packages/mne/io/edf/edf.py:430\u001b[0m, in \u001b[0;36m_get_info\u001b[0;34m(fname, stim_channel, eog, misc, exclude, infer_types, preload, include)\u001b[0m\n\u001b[1;32m    427\u001b[0m eog \u001b[39m=\u001b[39m eog \u001b[39mif\u001b[39;00m eog \u001b[39mis\u001b[39;00m \u001b[39mnot\u001b[39;00m \u001b[39mNone\u001b[39;00m \u001b[39melse\u001b[39;00m []\n\u001b[1;32m    428\u001b[0m misc \u001b[39m=\u001b[39m misc \u001b[39mif\u001b[39;00m misc \u001b[39mis\u001b[39;00m \u001b[39mnot\u001b[39;00m \u001b[39mNone\u001b[39;00m \u001b[39melse\u001b[39;00m []\n\u001b[0;32m--> 430\u001b[0m edf_info, orig_units \u001b[39m=\u001b[39m _read_header(fname, exclude, infer_types, include)\n\u001b[1;32m    432\u001b[0m \u001b[39m# XXX: `tal_ch_names` to pass to `_check_stim_channel` should be computed\u001b[39;00m\n\u001b[1;32m    433\u001b[0m \u001b[39m#      from `edf_info['ch_names']` and `edf_info['tal_idx']` but 'tal_idx'\u001b[39;00m\n\u001b[1;32m    434\u001b[0m \u001b[39m#      contains stim channels that are not TAL.\u001b[39;00m\n\u001b[1;32m    435\u001b[0m stim_channel_idxs, _ \u001b[39m=\u001b[39m _check_stim_channel(\n\u001b[1;32m    436\u001b[0m     stim_channel, edf_info[\u001b[39m'\u001b[39m\u001b[39mch_names\u001b[39m\u001b[39m'\u001b[39m])\n",
      "File \u001b[0;32m~/anaconda3/envs/OpenBCI/lib/python3.10/site-packages/mne/io/edf/edf.py:416\u001b[0m, in \u001b[0;36m_read_header\u001b[0;34m(fname, exclude, infer_types, include)\u001b[0m\n\u001b[1;32m    414\u001b[0m logger\u001b[39m.\u001b[39minfo(\u001b[39m'\u001b[39m\u001b[39m%s\u001b[39;00m\u001b[39m file detected\u001b[39m\u001b[39m'\u001b[39m \u001b[39m%\u001b[39m ext\u001b[39m.\u001b[39mupper())\n\u001b[1;32m    415\u001b[0m \u001b[39mif\u001b[39;00m ext \u001b[39min\u001b[39;00m (\u001b[39m'\u001b[39m\u001b[39mbdf\u001b[39m\u001b[39m'\u001b[39m, \u001b[39m'\u001b[39m\u001b[39medf\u001b[39m\u001b[39m'\u001b[39m):\n\u001b[0;32m--> 416\u001b[0m     \u001b[39mreturn\u001b[39;00m _read_edf_header(fname, exclude, infer_types, include)\n\u001b[1;32m    417\u001b[0m \u001b[39melif\u001b[39;00m ext \u001b[39m==\u001b[39m \u001b[39m'\u001b[39m\u001b[39mgdf\u001b[39m\u001b[39m'\u001b[39m:\n\u001b[1;32m    418\u001b[0m     \u001b[39mreturn\u001b[39;00m _read_gdf_header(fname, exclude, include), \u001b[39mNone\u001b[39;00m\n",
      "File \u001b[0;32m~/anaconda3/envs/OpenBCI/lib/python3.10/site-packages/mne/io/edf/edf.py:769\u001b[0m, in \u001b[0;36m_read_edf_header\u001b[0;34m(fname, exclude, infer_types, include)\u001b[0m\n\u001b[1;32m    765\u001b[0m ch_names \u001b[39m=\u001b[39m _unique_channel_names(ch_names)\n\u001b[1;32m    766\u001b[0m orig_units \u001b[39m=\u001b[39m \u001b[39mdict\u001b[39m(\u001b[39mzip\u001b[39m(ch_names, units))\n\u001b[1;32m    768\u001b[0m physical_min \u001b[39m=\u001b[39m np\u001b[39m.\u001b[39marray(\n\u001b[0;32m--> 769\u001b[0m     [\u001b[39mfloat\u001b[39m(_edf_str_num(fid\u001b[39m.\u001b[39mread(\u001b[39m8\u001b[39m))) \u001b[39mfor\u001b[39;00m ch \u001b[39min\u001b[39;00m channels])[sel]\n\u001b[1;32m    770\u001b[0m physical_max \u001b[39m=\u001b[39m np\u001b[39m.\u001b[39marray(\n\u001b[1;32m    771\u001b[0m     [\u001b[39mfloat\u001b[39m(_edf_str_num(fid\u001b[39m.\u001b[39mread(\u001b[39m8\u001b[39m))) \u001b[39mfor\u001b[39;00m ch \u001b[39min\u001b[39;00m channels])[sel]\n\u001b[1;32m    772\u001b[0m digital_min \u001b[39m=\u001b[39m np\u001b[39m.\u001b[39marray(\n\u001b[1;32m    773\u001b[0m     [\u001b[39mfloat\u001b[39m(_edf_str_num(fid\u001b[39m.\u001b[39mread(\u001b[39m8\u001b[39m))) \u001b[39mfor\u001b[39;00m ch \u001b[39min\u001b[39;00m channels])[sel]\n",
      "File \u001b[0;32m~/anaconda3/envs/OpenBCI/lib/python3.10/site-packages/mne/io/edf/edf.py:769\u001b[0m, in \u001b[0;36m<listcomp>\u001b[0;34m(.0)\u001b[0m\n\u001b[1;32m    765\u001b[0m ch_names \u001b[39m=\u001b[39m _unique_channel_names(ch_names)\n\u001b[1;32m    766\u001b[0m orig_units \u001b[39m=\u001b[39m \u001b[39mdict\u001b[39m(\u001b[39mzip\u001b[39m(ch_names, units))\n\u001b[1;32m    768\u001b[0m physical_min \u001b[39m=\u001b[39m np\u001b[39m.\u001b[39marray(\n\u001b[0;32m--> 769\u001b[0m     [\u001b[39mfloat\u001b[39;49m(_edf_str_num(fid\u001b[39m.\u001b[39;49mread(\u001b[39m8\u001b[39;49m))) \u001b[39mfor\u001b[39;00m ch \u001b[39min\u001b[39;00m channels])[sel]\n\u001b[1;32m    770\u001b[0m physical_max \u001b[39m=\u001b[39m np\u001b[39m.\u001b[39marray(\n\u001b[1;32m    771\u001b[0m     [\u001b[39mfloat\u001b[39m(_edf_str_num(fid\u001b[39m.\u001b[39mread(\u001b[39m8\u001b[39m))) \u001b[39mfor\u001b[39;00m ch \u001b[39min\u001b[39;00m channels])[sel]\n\u001b[1;32m    772\u001b[0m digital_min \u001b[39m=\u001b[39m np\u001b[39m.\u001b[39marray(\n\u001b[1;32m    773\u001b[0m     [\u001b[39mfloat\u001b[39m(_edf_str_num(fid\u001b[39m.\u001b[39mread(\u001b[39m8\u001b[39m))) \u001b[39mfor\u001b[39;00m ch \u001b[39min\u001b[39;00m channels])[sel]\n",
      "\u001b[0;31mValueError\u001b[0m: could not convert string to float: '-J374935'"
     ]
    }
   ],
   "source": [
    "import eegraph\n",
    "\n",
    "# curr_file = data_dir / '12349/session_1/12349_session_1_23-03-2023_23-43.edf'\n",
    "G = eegraph.Graph()\n",
    "G.load_data(path = \"User_data/12349/session_1/12349_session_1_23-03-2023_23-43.edf\")"
   ]
  },
  {
   "cell_type": "code",
   "execution_count": null,
   "metadata": {},
   "outputs": [],
   "source": []
  },
  {
   "cell_type": "code",
   "execution_count": null,
   "metadata": {},
   "outputs": [],
   "source": [
    "import eegraph\n",
    "\n",
    "curr_file = data_dir / '12349/session_1/12349_session_1_23-03-2023_23-43.edf'\n",
    "G = eegraph.Graph()\n",
    "G.load_data(path = str(curr_file))"
   ]
  }
 ],
 "metadata": {
  "kernelspec": {
   "display_name": "OpenBCI",
   "language": "python",
   "name": "python3"
  },
  "language_info": {
   "codemirror_mode": {
    "name": "ipython",
    "version": 3
   },
   "file_extension": ".py",
   "mimetype": "text/x-python",
   "name": "python",
   "nbconvert_exporter": "python",
   "pygments_lexer": "ipython3",
   "version": "3.10.10"
  },
  "orig_nbformat": 4
 },
 "nbformat": 4,
 "nbformat_minor": 2
}
