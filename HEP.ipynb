{
 "cells": [
  {
   "cell_type": "code",
   "execution_count": 60,
   "metadata": {},
   "outputs": [],
   "source": [
    "# all the imports\n",
    "from pathlib import Path\n",
    "import datetime\n",
    "import pandas as pd\n",
    "from report import *\n",
    "import datetime"
   ]
  },
  {
   "cell_type": "code",
   "execution_count": 61,
   "metadata": {},
   "outputs": [],
   "source": [
    "curr_dir = Path.cwd()\n",
    "data_dir = curr_dir / 'User_data'\n",
    "log_file_path = []\n",
    "\n",
    "# get the latest log file\n",
    "for user in data_dir.iterdir():\n",
    "    for session in user.iterdir():\n",
    "        for log in session.iterdir():\n",
    "            if log.suffix == '.log':\n",
    "                log_file_path.append(log)\n"
   ]
  },
  {
   "cell_type": "code",
   "execution_count": 62,
   "metadata": {},
   "outputs": [
    {
     "name": "stdout",
     "output_type": "stream",
     "text": [
      "/home/niskal/Abhishek/OpenBCI_DataAnlaysis/User_data/12345/session_2/12345_session_2_22-03-2023_21-59.log\n"
     ]
    }
   ],
   "source": [
    "file_path = log_file_path[0]\n",
    "print(file_path)"
   ]
  },
  {
   "cell_type": "code",
   "execution_count": 63,
   "metadata": {},
   "outputs": [],
   "source": [
    "comm_list = []\n",
    "sysmon_list = []\n",
    "start_time = 0\n",
    "end_time = 0"
   ]
  },
  {
   "cell_type": "code",
   "execution_count": 64,
   "metadata": {},
   "outputs": [],
   "source": [
    "with open(file_path, 'r') as f:\n",
    "    lines  = f.readlines()[2:]\n",
    "\n",
    "start_time = lines[0].split()[0]\n",
    "end_time = lines[-1].split()[0]\n",
    "f.close()"
   ]
  },
  {
   "cell_type": "code",
   "execution_count": 65,
   "metadata": {},
   "outputs": [],
   "source": [
    "# traverse thorugh the log file for sysmon and communication events\n",
    "with open(file_path ,'r') as f:\n",
    "    for line in f:\n",
    "        line = line.split('\\t')\n",
    "\n",
    "        if(len(line)<=1):\n",
    "            continue\n",
    "\n",
    "        if line[2] == 'SYSMON':\n",
    "            sysmon_list.append(line)\n",
    "\n",
    "        if line[2] == 'COMMUN' and line[6]!='SELECTED\\n':\n",
    "            comm_list.append(line)"
   ]
  },
  {
   "cell_type": "code",
   "execution_count": 66,
   "metadata": {},
   "outputs": [],
   "source": [
    "def create_dict(start_time, end_time):\n",
    "    #make it in HH:MM:SS format\n",
    "    start_time = start_time.split('.')[0]\n",
    "    start = datetime.datetime.strptime(start_time, '%H:%M:%S')\n",
    "    end_time = end_time.split('.')[0]\n",
    "    end = datetime.datetime.strptime(end_time, '%H:%M:%S')\n",
    "    time_diff = end - start\n",
    "    time_list = [start + datetime.timedelta(seconds=x) for x in range(time_diff.seconds + 1)]\n",
    "    time_dict = {time.strftime('%H:%M:%S'): 0 for time in time_list}\n",
    "    return time_dict"
   ]
  },
  {
   "cell_type": "code",
   "execution_count": 67,
   "metadata": {},
   "outputs": [
    {
     "name": "stdout",
     "output_type": "stream",
     "text": [
      "1.038313\n",
      "0.835807\n",
      "0.895221\n",
      "0.694475\n",
      "0.762519\n",
      "['21:56:36.572304', '', 'SYSMON', 'ACTION', 'D', 'MISS\\n']\n",
      "0.913812\n",
      "1.28743\n",
      "0.872888\n",
      "0.832487\n",
      "['21:57:14.147796', '', 'SYSMON', 'ACTION', 'D', 'MISS\\n']\n",
      "1.360443\n",
      "0.984618\n",
      "1.382973\n",
      "['21:57:44.723766', '', 'SYSMON', 'ACTION', 'A', 'MISS\\n']\n",
      "2.027664\n",
      "['21:58:07.778038', '', 'SYSMON', 'ACTION', 'E', 'MISS\\n']\n",
      "2.001091\n",
      "1.359702\n",
      "0.990621\n",
      "1.562321\n",
      "Total Failures:  17\n",
      "Total Hits:  13\n",
      "False Alarms:  4\n",
      "Average Response Time:  1.1648461764705882\n"
     ]
    }
   ],
   "source": [
    "time_dict  = create_dict(start_time, end_time)\n",
    "getSysmonScore(sysmon_list, time_dict)\n",
    "\n",
    "#print where time dict has value 1\n",
    "for key, value in time_dict.items():\n",
    "    if value == 1:\n",
    "        print(key)"
   ]
  },
  {
   "cell_type": "code",
   "execution_count": null,
   "metadata": {},
   "outputs": [],
   "source": []
  }
 ],
 "metadata": {
  "kernelspec": {
   "display_name": "OpenBCI",
   "language": "python",
   "name": "python3"
  },
  "language_info": {
   "codemirror_mode": {
    "name": "ipython",
    "version": 3
   },
   "file_extension": ".py",
   "mimetype": "text/x-python",
   "name": "python",
   "nbconvert_exporter": "python",
   "pygments_lexer": "ipython3",
   "version": "3.10.10"
  },
  "orig_nbformat": 4
 },
 "nbformat": 4,
 "nbformat_minor": 2
}
