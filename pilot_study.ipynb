{
 "cells": [
  {
   "cell_type": "code",
   "execution_count": 53,
   "metadata": {},
   "outputs": [],
   "source": [
    "from pathlib import Path\n",
    "import os\n",
    "import numpy as np\n",
    "import random\n",
    "import matplotlib.pyplot as plt\n",
    "\n"
   ]
  },
  {
   "cell_type": "code",
   "execution_count": 48,
   "metadata": {},
   "outputs": [],
   "source": [
    "setting_dict = {\n",
    "'setting1' : ['12348/session_1','12354/session_2','12355/session_2'],\n",
    "'setting2' : ['12349/session_1','12348/session_2','12350/session_1'],\n",
    "'setting3' : ['12345/session_1','12353/session_1','12354/session_2','12355/session_2'],\n",
    "'setting4' : ['12346/session_1','12349/session_2','12352/session_1','12351/session_1'],\n",
    "'setting5' : ['12345/session_2','12346/session_2','12350/session_2','12351/session_2','12352/session_2','12353/session_2'],\n",
    "}"
   ]
  },
  {
   "cell_type": "code",
   "execution_count": 5,
   "metadata": {},
   "outputs": [],
   "source": [
    "data_dir = Path.cwd()\n",
    "data_dir = data_dir / 'User_data'"
   ]
  },
  {
   "cell_type": "code",
   "execution_count": 25,
   "metadata": {},
   "outputs": [],
   "source": [
    "#a fnctio to find deviation from the mean\n",
    "def find_deviation_from_mean(data):\n",
    "    mean = np.mean(data)\n",
    "    return data - mean\n"
   ]
  },
  {
   "cell_type": "code",
   "execution_count": 58,
   "metadata": {},
   "outputs": [],
   "source": [
    "file = 'User_data/12345/session_1/12345_session_1_22-03-2023_21-53_pulse_data.txt'\n",
    "\n",
    "def getPulseData(file):\n",
    "    pulse_data= []\n",
    "    with open(file, 'r') as f:\n",
    "        for line in f:\n",
    "            line = line.strip()\n",
    "            line = line.split('||')[2]\n",
    "            pulse = line.split(',')[0][1:]\n",
    "            pulse = float(pulse)\n",
    "            if(pulse>=100.0):\n",
    "                continue\n",
    "            if(pulse<=60.0):\n",
    "                #append any random value between 60.0 too 80.0\n",
    "                val = float(random.randint(60, 80))\n",
    "                pulse_data.append(val)\n",
    "            pulse_data.append(float(pulse))\n",
    "    return pulse_data"
   ]
  },
  {
   "cell_type": "code",
   "execution_count": null,
   "metadata": {},
   "outputs": [],
   "source": [
    "avg_mean_deviation = []\n",
    "for sess in setting1:\n",
    "    path = data_dir / sess\n",
    "    #calculate the devition from the mean for each file \n",
    "    # and plot in one single plot with different colors\n",
    "    for file in path.iterdir():\n",
    "        if(str(file).endswith('pulse_data.txt')):\n",
    "            pulse_data = getPulseData(file)\n",
    "            pulse_data = find_deviation_from_mean(pulse_data)\n",
    "            #find thre average deviation from the mean\n",
    "            avg_deviation = np.mean(pulse_data)\n",
    "            avg_mean_deviation.append(avg_deviation)\n",
    "            plt.plot(pulse_data)\n",
    "            plt.xlabel('Time')\n",
    "            plt.ylabel('Deviation from mean')\n",
    "            plt.title('Deviation from mean for ID:'+str(sess).split('/')[0]+' in a setting')\n",
    "            plt.show()\n",
    "\n",
    "\n",
    "#plot the average deviation from the mean for each setting in a single plot\n",
    "plt.plot(avg_mean_deviation)\n",
    "plt.xlabel('Setting')\n",
    "plt.ylabel('Average deviation from mean')\n",
    "plt.title('Average deviation from mean for each setting')"
   ]
  },
  {
   "cell_type": "code",
   "execution_count": 63,
   "metadata": {},
   "outputs": [
    {
     "name": "stdout",
     "output_type": "stream",
     "text": [
      "setting1\n",
      "setting2\n",
      "setting3\n",
      "setting4\n",
      "setting5\n"
     ]
    }
   ],
   "source": [
    "for i in range(1,6):\n",
    "    curr_setting = 'setting'+str(i)\n",
    "    avg_mean_deviation = []\n",
    "    for sess in curr_setting:\n",
    "        path = data_dir / sess\n",
    "        #calculate the devition from the mean for each file \n",
    "        # and plot in one single plot with different colors\n",
    "        for file in path.iterdir():\n",
    "            if(str(file).endswith('pulse_data.txt')):\n",
    "                pulse_data = getPulseData(file)\n",
    "                pulse_data = find_deviation_from_mean(pulse_data)\n",
    "                #find thre average deviation from the mean\n",
    "                avg_deviation = np.mean(pulse_data)\n",
    "                avg_mean_deviation.append(avg_deviation)\n",
    "    \n",
    "    plt.plot(avg_mean_deviation,len)"
   ]
  }
 ],
 "metadata": {
  "kernelspec": {
   "display_name": "OpenBCI",
   "language": "python",
   "name": "python3"
  },
  "language_info": {
   "codemirror_mode": {
    "name": "ipython",
    "version": 3
   },
   "file_extension": ".py",
   "mimetype": "text/x-python",
   "name": "python",
   "nbconvert_exporter": "python",
   "pygments_lexer": "ipython3",
   "version": "3.11.2"
  },
  "orig_nbformat": 4
 },
 "nbformat": 4,
 "nbformat_minor": 2
}
